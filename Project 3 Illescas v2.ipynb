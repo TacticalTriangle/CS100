{
 "cells": [
  {
   "cell_type": "code",
   "execution_count": 1,
   "metadata": {},
   "outputs": [],
   "source": [
    "import math\n",
    "g = -9.81\n",
    "\n",
    "class Projectile:\n",
    "    \n",
    "    def __init__(self,h0,v0):\n",
    "        \n",
    "        self.top_time = -(v0/g)\n",
    "\n",
    "        self.top_height = ((2*g*h0) - (v0**2))/(2*g)\n",
    "\n",
    "        self.time_air = -((v0 + (math.sqrt((v0**2)-(2*g*h0)))) / g)\n",
    "        \n",
    "    def height(self,t):\n",
    "        return ((g/2)*(t**2)) + (v0*t) + h0\n",
    "\n",
    "    def velocity(self,t):\n",
    "        return (g*t) + v0"
   ]
  },
  {
   "cell_type": "code",
   "execution_count": 2,
   "metadata": {},
   "outputs": [
    {
     "name": "stdout",
     "output_type": "stream",
     "text": [
      "Press q to quit or anything else to continue: \n",
      "What is the initial height: 10\n",
      "What is the initial velocity: 5\n",
      "The time in the air is: 2.0257690065303326\n",
      "The time to top height is: 0.509683995922528\n",
      "The top height is: 11.27420998980632\n",
      "The time spent in the air is: 2.0257690065303326\n",
      "('Enter a value between 0 and', 2.0257690065303326)2\n",
      "The height at 2.0 is: 0.379999999999999\n",
      "The velocity at 2.0 is: -14.620000000000001\n",
      "Press q to quit or anything else to continue: q\n",
      "Program exits.\n"
     ]
    }
   ],
   "source": [
    "while 1:\n",
    "    s = input( \"Press q to quit or anything else to continue: \" )\n",
    "    if s == 'q':\n",
    "        print( \"Program exits.\")\n",
    "        break;\n",
    "    h0 = int(input( \"What is the initial height: \" ))\n",
    "    v0 = int(input( \"What is the initial velocity: \" ))\n",
    "    r = Projectile(h0,v0)\n",
    "    print(\"The time in the air is:\", r.time_air)\n",
    "    print(\"The time to top height is:\", r.top_time)\n",
    "    print(\"The top height is:\", r.top_height)\n",
    "    print(\"The time spent in the air is:\", r.time_air)\n",
    "    mes = \"Enter a value between 0 and\", r.time_air\n",
    "    t = float(input(mes))\n",
    "    if t < 0 or r.time_air < t:\n",
    "        print(\"t is out of range\")\n",
    "    else:\n",
    "        print(\"The height at\",t,\"is:\",r.height(t))\n",
    "        print(\"The velocity at\",t,\"is:\",r.velocity(t))"
   ]
  }
 ],
 "metadata": {
  "kernelspec": {
   "display_name": "Python 3",
   "language": "python",
   "name": "python3"
  },
  "language_info": {
   "codemirror_mode": {
    "name": "ipython",
    "version": 3
   },
   "file_extension": ".py",
   "mimetype": "text/x-python",
   "name": "python",
   "nbconvert_exporter": "python",
   "pygments_lexer": "ipython3",
   "version": "3.7.1"
  }
 },
 "nbformat": 4,
 "nbformat_minor": 2
}
